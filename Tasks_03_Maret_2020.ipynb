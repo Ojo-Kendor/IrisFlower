{
 "cells": [
  {
   "cell_type": "markdown",
   "metadata": {},
   "source": [
    "# OjoKendor Tasks per 3 Maret 2020\n",
    "\n",
    "1. Eksplorasi Data \"Iris\"\n",
    "2. EDA\n",
    "3. NLP (Text Processing)\n",
    "4. Multiclass Classification\n",
    "5. Classification accuracy parameters (sore, accuracy, precisim, etc)\n",
    "6. Research for more advance Topic"
   ]
  },
  {
   "cell_type": "code",
   "execution_count": null,
   "metadata": {},
   "outputs": [],
   "source": []
  }
 ],
 "metadata": {
  "kernelspec": {
   "display_name": "Python 3",
   "language": "python",
   "name": "python3"
  },
  "language_info": {
   "codemirror_mode": {
    "name": "ipython",
    "version": 3
   },
   "file_extension": ".py",
   "mimetype": "text/x-python",
   "name": "python",
   "nbconvert_exporter": "python",
   "pygments_lexer": "ipython3",
   "version": "3.7.4"
  }
 },
 "nbformat": 4,
 "nbformat_minor": 2
}
